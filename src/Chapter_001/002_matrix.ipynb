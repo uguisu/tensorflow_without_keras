{
 "cells": [
  {
   "cell_type": "markdown",
   "id": "095f0fad",
   "metadata": {},
   "source": [
    "# 矩阵运算"
   ]
  },
  {
   "cell_type": "code",
   "execution_count": 1,
   "id": "01757055",
   "metadata": {},
   "outputs": [],
   "source": [
    "import numpy as np\n",
    "import tensorflow as tf\n",
    "\n",
    "from matplotlib import pyplot as plt\n",
    "from scipy.stats import gamma"
   ]
  },
  {
   "cell_type": "markdown",
   "id": "4f9b9e31",
   "metadata": {},
   "source": [
    "## 单位矩阵"
   ]
  },
  {
   "cell_type": "code",
   "execution_count": 2,
   "id": "fd16ce29",
   "metadata": {},
   "outputs": [
    {
     "name": "stdout",
     "output_type": "stream",
     "text": [
      "mt_001 =  tf.Tensor(\n",
      "[[1 0 0]\n",
      " [0 1 0]\n",
      " [0 0 1]], shape=(3, 3), dtype=int32) \n",
      "\n"
     ]
    }
   ],
   "source": [
    "# def eye(num_rows: Any,\n",
    "#         num_columns: Any = None,\n",
    "#         batch_shape: Any = None,\n",
    "#         dtype: DType = dtypes.float32,\n",
    "#         name: Any = None) -> object\n",
    "mt_001 = tf.eye(3, 3, dtype=tf.int32)\n",
    "print('mt_001 = ', mt_001, '\\n')"
   ]
  },
  {
   "cell_type": "markdown",
   "id": "c29c1b41",
   "metadata": {},
   "source": [
    "## 全零矩阵"
   ]
  },
  {
   "cell_type": "code",
   "execution_count": 3,
   "id": "8e2c02be",
   "metadata": {},
   "outputs": [
    {
     "name": "stdout",
     "output_type": "stream",
     "text": [
      "mt_002 =  tf.Tensor(\n",
      "[[0 0 0]\n",
      " [0 0 0]\n",
      " [0 0 0]], shape=(3, 3), dtype=int32) \n",
      "\n"
     ]
    }
   ],
   "source": [
    "# def zeros(shape: {_shape_tuple},\n",
    "#           dtype: DType = dtypes.float32,\n",
    "#           name: Any = None) -> Union[object, Tensor]\n",
    "mt_002 = tf.zeros((3, 3), dtype=tf.int32)\n",
    "print('mt_002 = ', mt_002, '\\n')"
   ]
  },
  {
   "cell_type": "markdown",
   "id": "c12b1cc9",
   "metadata": {},
   "source": [
    "## 按照模板创建全零矩阵\n",
    "\n",
    "模板可以是: `数组`, `numpy数组`, `tf.constant`对象"
   ]
  },
  {
   "cell_type": "code",
   "execution_count": 4,
   "id": "a88a7f50",
   "metadata": {},
   "outputs": [
    {
     "name": "stdout",
     "output_type": "stream",
     "text": [
      "mt_002_clone_shape =  tf.Tensor(\n",
      "[[0. 0. 0.]\n",
      " [0. 0. 0.]], shape=(2, 3), dtype=float32)\n"
     ]
    }
   ],
   "source": [
    "# def zeros_like(input: {shape, dtype},\n",
    "#                   dtype: Any = None,\n",
    "#                   name: Any = None) -> Union[object, Tensor]\n",
    "numpy_template = np.array([[1, 2, 3], [11, 22, 33]])\n",
    "mt_002_clone_shape = tf.zeros_like(numpy_template, dtype=tf.float32)\n",
    "print('mt_002_clone_shape = ', mt_002_clone_shape)"
   ]
  },
  {
   "cell_type": "markdown",
   "id": "7ec7ef03",
   "metadata": {},
   "source": [
    "shape保持不变"
   ]
  },
  {
   "cell_type": "code",
   "execution_count": 5,
   "id": "eb7a1cb7",
   "metadata": {},
   "outputs": [],
   "source": [
    "assert numpy_template.shape == mt_002_clone_shape.shape"
   ]
  },
  {
   "cell_type": "markdown",
   "id": "fe8e8843",
   "metadata": {},
   "source": [
    "## 全1矩阵"
   ]
  },
  {
   "cell_type": "code",
   "execution_count": 6,
   "id": "bb4c5670",
   "metadata": {},
   "outputs": [
    {
     "name": "stdout",
     "output_type": "stream",
     "text": [
      "mt_003 =  tf.Tensor(\n",
      "[[1 1 1]\n",
      " [1 1 1]\n",
      " [1 1 1]], shape=(3, 3), dtype=int32) \n",
      "\n"
     ]
    }
   ],
   "source": [
    "# def ones(shape: {_shape_tuple},\n",
    "#          dtype: DType = dtypes.float32,\n",
    "#          name: Any = None) -> Union[object, Tensor]\n",
    "mt_003 = tf.ones((3, 3), dtype=tf.int32)\n",
    "print('mt_003 = ', mt_003, '\\n')"
   ]
  },
  {
   "cell_type": "markdown",
   "id": "e055900e",
   "metadata": {},
   "source": [
    "按照模板创建全1矩阵，与`zeros_like()`函数类似"
   ]
  },
  {
   "cell_type": "code",
   "execution_count": 7,
   "id": "c15a6182",
   "metadata": {},
   "outputs": [
    {
     "name": "stdout",
     "output_type": "stream",
     "text": [
      "mt_003_clone_shape =  tf.Tensor(\n",
      "[[0]\n",
      " [0]\n",
      " [0]], shape=(3, 1), dtype=int16) \n",
      "\n"
     ]
    }
   ],
   "source": [
    "const_template = tf.constant([[21], [22], [33]], dtype=tf.float32)\n",
    "mt_003_clone_shape = tf.zeros_like(const_template, dtype=tf.int16)\n",
    "print('mt_003_clone_shape = ', mt_003_clone_shape, '\\n')"
   ]
  },
  {
   "cell_type": "markdown",
   "id": "3994392b",
   "metadata": {},
   "source": [
    "shape保持不变"
   ]
  },
  {
   "cell_type": "code",
   "execution_count": 8,
   "id": "8ebf25ec",
   "metadata": {},
   "outputs": [],
   "source": [
    "assert const_template.shape == mt_003_clone_shape.shape"
   ]
  },
  {
   "cell_type": "markdown",
   "id": "37f9789b",
   "metadata": {},
   "source": [
    "dtype被重新设置"
   ]
  },
  {
   "cell_type": "code",
   "execution_count": 9,
   "id": "015d6007",
   "metadata": {},
   "outputs": [],
   "source": [
    "assert const_template.dtype != mt_003_clone_shape.dtype"
   ]
  },
  {
   "cell_type": "markdown",
   "id": "9dc02ee2",
   "metadata": {},
   "source": [
    "## 从`服从指定均匀分布的序列`中随机取出指定个数的值。\n",
    "\n",
    "`均匀分布`是指，二维空间中, x = minval and x = maxval 的一条直线"
   ]
  },
  {
   "cell_type": "code",
   "execution_count": 10,
   "id": "e2527ff4",
   "metadata": {},
   "outputs": [
    {
     "name": "stdout",
     "output_type": "stream",
     "text": [
      "uniform =  tf.Tensor([[3.9925966 2.2832737]], shape=(1, 2), dtype=float32) \n",
      "\n"
     ]
    }
   ],
   "source": [
    "# 函数原型\n",
    "# def random_uniform(shape: Any,\n",
    "#                    minval: int = 0,\n",
    "#                    maxval: Optional[{__eq__}] = None,\n",
    "#                    dtype: DType = dtypes.float32,\n",
    "#                    seed: Any = None,\n",
    "#                    name: Any = None) -> object\n",
    "# shape – A 1-D integer Tensor or Python array. The shape of the output tensor.\n",
    "rnd = tf.random.uniform([1, 2], minval=1, maxval=5, dtype=tf.float32)\n",
    "print('uniform = ', rnd, '\\n')"
   ]
  },
  {
   "cell_type": "markdown",
   "id": "95858b3e",
   "metadata": {},
   "source": [
    "## 从`服从指定正态分布的序列`中随机取出指定个数的值"
   ]
  },
  {
   "cell_type": "code",
   "execution_count": 11,
   "id": "41a52bff",
   "metadata": {},
   "outputs": [
    {
     "name": "stdout",
     "output_type": "stream",
     "text": [
      "normal =  tf.Tensor(\n",
      "[ 0.25958237  0.36905584 -1.2463893   1.187106   -0.5751834  -0.73985445\n",
      " -0.3614732  -0.28265375 -0.3164267   0.23222785 -0.23913758 -1.1220918 ], shape=(12,), dtype=float32) \n",
      "\n"
     ]
    }
   ],
   "source": [
    "# 函数原型\n",
    "# def random_normal(shape: Any,\n",
    "#                   mean: float = 0.0,\n",
    "#                   stddev: float = 1.0,\n",
    "#                   dtype: DType = dtypes.float32,\n",
    "#                   seed: Any = None,\n",
    "#                   name: Any = None) -> object\n",
    "# shape – A 1-D integer Tensor or Python array. The shape of the output tensor.\n",
    "rnd = tf.random.normal([12], mean=0, stddev=1, dtype=tf.float32)\n",
    "print('normal = ', rnd, '\\n')"
   ]
  },
  {
   "cell_type": "markdown",
   "id": "8e04b63e",
   "metadata": {},
   "source": [
    "## 从`服从指定泊松分布的序列`中随机取出指定个数的值。"
   ]
  },
  {
   "cell_type": "code",
   "execution_count": 12,
   "id": "a1c0c5a6",
   "metadata": {},
   "outputs": [
    {
     "data": {
      "image/png": "[encoded data removed]",
      "text/plain": [
       "<Figure size 432x288 with 1 Axes>"
      ]
     },
     "metadata": {
      "needs_background": "light"
     },
     "output_type": "display_data"
    }
   ],
   "source": [
    "# Poisson分布\n",
    "x = np.random.poisson(lam=1.5, size=10000)\n",
    "pillar = 15\n",
    "a = plt.hist(x, bins=pillar, range=[0, pillar], color='g', alpha=0.5)\n",
    "plt.plot(a[1][0:pillar], a[0], 'r')\n",
    "plt.grid()\n",
    "plt.show()"
   ]
  },
  {
   "cell_type": "markdown",
   "id": "a3a4c13b",
   "metadata": {},
   "source": [
    "函数原型\n",
    "```python\n",
    "def random_poisson_v2(shape: Any,\n",
    "                      lam: Any,\n",
    "                      dtype: DType = dtypes.float32,\n",
    "                      seed: Any = None,\n",
    "                      name: Any = None) -> Any\n",
    "```\n",
    "shape – A 1-D integer Tensor or Python array.\n",
    "        The shape of the output samples to be drawn per \"rate\"-parameterized distribution.\n",
    "        **注意** 这里的shape还有一个隐藏的纬度，这个纬度的大小是根据参数`lam`的维度来确定的\n",
    "\n",
    "lam - A Tensor or Python value or N-D array of type dtype.\n",
    "      lam provides the rate parameter(s) describing the poisson distribution(s) to sample.\n",
    "      对于`lam`的理解:就是设置一组λ(例如 [0.5, 1.5]), 然后生成满足泊松分布的随机数，有几个λ就生成几组。生成的结果与shape的最后一维\n",
    "      融合。"
   ]
  },
  {
   "cell_type": "code",
   "execution_count": 13,
   "id": "c04e107b",
   "metadata": {},
   "outputs": [
    {
     "name": "stdout",
     "output_type": "stream",
     "text": [
      "poisson1 =  tf.Tensor(\n",
      "[[0. 1.]\n",
      " [0. 2.]\n",
      " [1. 1.]\n",
      " [0. 0.]\n",
      " [0. 1.]\n",
      " [0. 2.]\n",
      " [2. 2.]\n",
      " [1. 1.]\n",
      " [0. 1.]\n",
      " [1. 2.]], shape=(10, 2), dtype=float32) \n",
      "\n",
      "poisson1 shape =  (10, 2) \n",
      "\n"
     ]
    }
   ],
   "source": [
    "rnd = tf.random.poisson([10], [0.5, 1.5], dtype=tf.float32)\n",
    "print('poisson1 = ', rnd, '\\n')\n",
    "print('poisson1 shape = ', rnd.shape, '\\n')"
   ]
  },
  {
   "cell_type": "code",
   "execution_count": 14,
   "id": "71233e2b",
   "metadata": {},
   "outputs": [
    {
     "name": "stdout",
     "output_type": "stream",
     "text": [
      "poisson2 =  tf.Tensor(\n",
      "[[[ 0.  2.  5.]\n",
      "  [ 0.  1.  6.]\n",
      "  [ 0.  4.  4.]\n",
      "  [ 0.  1.  4.]\n",
      "  [ 0.  2.  9.]\n",
      "  [ 0.  3.  5.]\n",
      "  [ 0.  0.  6.]]\n",
      "\n",
      " [[ 0.  1.  7.]\n",
      "  [ 0.  0.  7.]\n",
      "  [ 1.  0.  2.]\n",
      "  [ 1.  1.  5.]\n",
      "  [ 0.  0.  4.]\n",
      "  [ 1.  1.  6.]\n",
      "  [ 0.  1.  4.]]\n",
      "\n",
      " [[ 0.  0.  7.]\n",
      "  [ 2.  2.  9.]\n",
      "  [ 0.  1.  1.]\n",
      "  [ 2.  2.  7.]\n",
      "  [ 1.  2. 11.]\n",
      "  [ 1.  3.  0.]\n",
      "  [ 0.  1. 14.]]\n",
      "\n",
      " [[ 0.  0.  8.]\n",
      "  [ 0.  4.  6.]\n",
      "  [ 0.  1.  6.]\n",
      "  [ 0.  1.  7.]\n",
      "  [ 1.  3.  7.]\n",
      "  [ 0.  0. 11.]\n",
      "  [ 1.  2.  7.]]\n",
      "\n",
      " [[ 1.  2.  6.]\n",
      "  [ 0.  3.  5.]\n",
      "  [ 1.  2.  6.]\n",
      "  [ 1.  0.  4.]\n",
      "  [ 0.  2.  4.]\n",
      "  [ 1.  1.  6.]\n",
      "  [ 0.  1.  5.]]], shape=(5, 7, 3), dtype=float32) \n",
      "\n",
      "poisson2 shape =  (5, 7, 3) \n",
      "\n"
     ]
    }
   ],
   "source": [
    "rnd = tf.random.poisson([5, 7], [0.5, 1.5, 5.5], dtype=tf.float32)\n",
    "print('poisson2 = ', rnd, '\\n')\n",
    "print('poisson2 shape = ', rnd.shape, '\\n')"
   ]
  },
  {
   "cell_type": "markdown",
   "id": "81c67791",
   "metadata": {},
   "source": [
    "## 分类采样"
   ]
  },
  {
   "cell_type": "markdown",
   "id": "20a2b92b",
   "metadata": {},
   "source": [
    "函数原型\n",
    "```python\n",
    "def categorical(logits: Any,\n",
    "                num_samples: Any,\n",
    "                dtype: Any = None,\n",
    "                seed: Any = None,\n",
    "                name: Any = None) -> object\n",
    "```\n",
    "logits - 2-D Tensor with shape [batch_size, num_classes]. Each slice [i, :] represents the unnormalized\n",
    "         log-probabilities for all classes.\n",
    "\n",
    "num_samples - 0-D. Number of independent samples to draw for each row slice.\n",
    "\n",
    "Return - The drawn samples of shape [batch_size, num_samples].\n",
    "\n",
    "**理解** 给一个`batch_size` * `num_classes`的方阵，`batch_size`表示采样次数，`num_classes`表示每一个类别在每一个`batch`中被抽取的概率。`num_samples`表示每一个`batch`抽取样本的数量。\n",
    "\n",
    "`返回值`是`batch_size` * `num_samples`的方阵，里面的数字不是样本本身，类别的下标"
   ]
  },
  {
   "cell_type": "markdown",
   "id": "76a69fac",
   "metadata": {},
   "source": [
    "均匀抽取"
   ]
  },
  {
   "cell_type": "code",
   "execution_count": 15,
   "id": "acd3f5fe",
   "metadata": {},
   "outputs": [
    {
     "name": "stdout",
     "output_type": "stream",
     "text": [
      "logits shape =  (2, 5) \n",
      "\n",
      "cat1 =  tf.Tensor(\n",
      "[[0 2 3 3 4]\n",
      " [4 2 0 4 3]], shape=(2, 5), dtype=int64) \n",
      "\n"
     ]
    }
   ],
   "source": [
    "num_samples = 5\n",
    "\n",
    "logits = tf.math.log([[0.2, 0.2, 0.2, 0.2, 0.2],\n",
    "                     [1., 1., 1., 1., 1.]])\n",
    "cat = tf.random.categorical(logits, num_samples)\n",
    "print('logits shape = ', logits.shape, '\\n')\n",
    "print('cat1 = ', cat, '\\n')"
   ]
  },
  {
   "cell_type": "markdown",
   "id": "0c93c01c",
   "metadata": {},
   "source": [
    "<br/>batch 0 倾向于样本4, batch 1 倾向于样本0"
   ]
  },
  {
   "cell_type": "code",
   "execution_count": 16,
   "id": "953b91a4",
   "metadata": {},
   "outputs": [
    {
     "name": "stdout",
     "output_type": "stream",
     "text": [
      "cat2 =  tf.Tensor(\n",
      "[[4 4 4 4 4]\n",
      " [3 0 0 0 0]], shape=(2, 5), dtype=int64) \n",
      "\n"
     ]
    }
   ],
   "source": [
    "logits = tf.math.log([[0.1, 0.1, 0.1, 0.1, 1.],\n",
    "                     [1., 0.1, 0.1, 0.1, 0.1]])\n",
    "cat = tf.random.categorical(logits, num_samples)\n",
    "print('cat2 = ', cat, '\\n')"
   ]
  },
  {
   "cell_type": "markdown",
   "id": "a4a10e2f",
   "metadata": {},
   "source": [
    "## 从\"服从指定gamma分布的序列\"中随机取出指定个数的值"
   ]
  },
  {
   "cell_type": "code",
   "execution_count": 17,
   "id": "1128692c",
   "metadata": {},
   "outputs": [
    {
     "data": {
      "image/png": "[encoded data removed]",
      "text/plain": [
       "<Figure size 864x576 with 1 Axes>"
      ]
     },
     "metadata": {
      "needs_background": "light"
     },
     "output_type": "display_data"
    }
   ],
   "source": [
    "# Gamma分布（Gamma Distribution）\n",
    "alpha_values = [1, 2, 3, 3, 3]\n",
    "beta_values = [0.5, 0.5, 0.5, 1, 2]\n",
    "color = ['b', 'r', 'g', 'y', 'm']\n",
    "x = np.linspace(1E-6, 10, 1000)\n",
    "\n",
    "fig, ax = plt.subplots(figsize=(12, 8))\n",
    "\n",
    "for k, t, c in zip(alpha_values, beta_values, color):\n",
    "    dist = gamma(k, 0, t)\n",
    "    plt.plot(x, dist.pdf(x), c=c, label=r'$\\alpha=%.1f,\\beta=%.1f$' % (k, t))\n",
    "\n",
    "plt.xlim(0, 10)\n",
    "plt.ylim(0, 2)\n",
    "\n",
    "plt.xlabel('$x$')\n",
    "plt.ylabel(r'$p(x|\\alpha,\\beta)$')\n",
    "plt.title('Gamma Distribution')\n",
    "\n",
    "plt.legend(loc=0)\n",
    "plt.show()"
   ]
  },
  {
   "cell_type": "markdown",
   "id": "50149460",
   "metadata": {},
   "source": [
    "函数原型\n",
    "```python\n",
    "def random_gamma(shape: Any,\n",
    "                 alpha: Any,\n",
    "                 beta: Any = None,\n",
    "                 dtype: DType = dtypes.float32,\n",
    "                 seed: Any = None,\n",
    "                 name: Any = None) -> Any\n",
    "```\n",
    "\n",
    "shape - A 1-D integer Tensor or Python array. The shape of the output samples to be drawn per\n",
    "        alpha/beta-parameterized distribution.\n",
    "        **注意** 这里的shape还有两个隐藏的纬度，这个纬度的大小是根据参数`alpha`和`beta`的维度来确定的\n",
    "\n",
    "alpha - A Tensor or Python value or N-D array of type dtype. alpha provides the shape parameter(s) describing\n",
    "        the gamma distribution(s) to sample. Must be broadcastable with beta.\n",
    "\n",
    "beta - A Tensor or Python value or N-D array of type dtype. Defaults to 1. beta provides the inverse scale\n",
    "       parameter(s) of the gamma distribution(s) to sample. Must be broadcastable with alpha."
   ]
  },
  {
   "cell_type": "code",
   "execution_count": 18,
   "id": "0abd49c3",
   "metadata": {},
   "outputs": [
    {
     "name": "stdout",
     "output_type": "stream",
     "text": [
      "gm1 =  tf.Tensor(\n",
      "[[2.9402344e+00 1.4568458e+00]\n",
      " [8.7305978e-03 1.0094446e+00]\n",
      " [1.6769568e-03 4.8147001e+00]\n",
      " [1.5329680e-01 1.1285794e-01]\n",
      " [8.2265876e-02 1.0546547e+00]], shape=(5, 2), dtype=float32) \n",
      "\n",
      "gm1 shape =  (5, 2) \n",
      "\n"
     ]
    }
   ],
   "source": [
    "gm = tf.random.gamma([5], [0.5, 1.5])\n",
    "print('gm1 = ', gm, '\\n')\n",
    "print('gm1 shape = ', gm.shape, '\\n')"
   ]
  },
  {
   "cell_type": "code",
   "execution_count": 19,
   "id": "d6f829e6",
   "metadata": {
    "scrolled": false
   },
   "outputs": [
    {
     "name": "stdout",
     "output_type": "stream",
     "text": [
      "gm2 =  tf.Tensor(\n",
      "[[[0.7462594  0.1289993 ]\n",
      "  [0.71799064 0.91600144]\n",
      "  [1.4739667  0.679698  ]]\n",
      "\n",
      " [[1.1179643  0.01385136]\n",
      "  [0.55209225 0.54105586]\n",
      "  [0.9448002  1.9170761 ]]\n",
      "\n",
      " [[0.3174745  0.05332041]\n",
      "  [0.3999418  0.6673344 ]\n",
      "  [0.48124477 1.1448811 ]]\n",
      "\n",
      " [[0.3166509  0.10174306]\n",
      "  [0.91888684 0.17174503]\n",
      "  [4.5491624  1.7886275 ]]\n",
      "\n",
      " [[0.2993024  0.04959896]\n",
      "  [0.65825367 0.5095716 ]\n",
      "  [0.6526775  1.8253863 ]]], shape=(5, 3, 2), dtype=float32) \n",
      "\n"
     ]
    }
   ],
   "source": [
    "# alpha + beta\n",
    "alpha = tf.constant([[1.], [3.], [5.]])\n",
    "beta = tf.constant([[3., 4.]])\n",
    "gm = tf.random.gamma([5], alpha=alpha, beta=beta)\n",
    "# samples has shape [5, 3, 2], with 5 samples each of 3x2 distributions.\n",
    "print('gm2 = ', gm, '\\n')"
   ]
  },
  {
   "cell_type": "markdown",
   "id": "835b58b9",
   "metadata": {},
   "source": [
    "## 模拟线性代数"
   ]
  },
  {
   "cell_type": "markdown",
   "id": "5cd8d44e",
   "metadata": {},
   "source": [
    "复现一下经典的函数\n",
    "\n",
    "$ Y = X * W + b $"
   ]
  },
  {
   "cell_type": "code",
   "execution_count": 20,
   "id": "3b3954ef",
   "metadata": {},
   "outputs": [],
   "source": [
    "# 样本数量\n",
    "n = 100"
   ]
  },
  {
   "cell_type": "code",
   "execution_count": 21,
   "id": "7b5de0ef",
   "metadata": {},
   "outputs": [],
   "source": [
    "# 生成测试用数据集\n",
    "X = tf.random.uniform([n, 2], minval=-10, maxval=10)\n",
    "w0 = tf.constant([[1.0], [2.0]])\n",
    "b0 = tf.constant(3.0)"
   ]
  },
  {
   "cell_type": "code",
   "execution_count": 22,
   "id": "e0a48789",
   "metadata": {},
   "outputs": [],
   "source": [
    "# 矩阵乘法,增加正态扰动\n",
    "Y = tf.matmul(X, w0) + b0 + tf.random.normal([n, 1], mean=0.0, stddev=2.0, dtype=tf.float32)"
   ]
  },
  {
   "cell_type": "code",
   "execution_count": 23,
   "id": "03efc056",
   "metadata": {},
   "outputs": [],
   "source": [
    "# 初始化权重为正态分布\n",
    "w = tf.Variable(tf.random.normal(w0.shape, mean=0.0, stddev=1.0, dtype=tf.float32))\n",
    "# 初始化噪声=0\n",
    "b = tf.Variable(0.0)\n",
    "# 训练次数\n",
    "epoches = 5000\n",
    "# learn rate\n",
    "learn_rate = 0.001"
   ]
  },
  {
   "cell_type": "code",
   "execution_count": 24,
   "id": "b05845ef",
   "metadata": {},
   "outputs": [
    {
     "name": "stdout",
     "output_type": "stream",
     "text": [
      "epoch = 1000  loss = 2.33518291\n",
      "w = [[0.979657114]\n",
      " [1.99867642]]\n",
      "b = 1.87958014\n",
      "\n",
      "epoch = 2000  loss = 1.82038879\n",
      "w = [[0.976173282]\n",
      " [1.99284101]]\n",
      "b = 2.56893754\n",
      "\n",
      "epoch = 3000  loss = 1.75036764\n",
      "w = [[0.974888206]\n",
      " [1.99068868]]\n",
      "b = 2.82317591\n",
      "\n",
      "epoch = 4000  loss = 1.74084377\n",
      "w = [[0.97441411]\n",
      " [1.98989642]]\n",
      "b = 2.91693926\n",
      "\n",
      "epoch = 5000  loss = 1.73954821\n",
      "w = [[0.974239051]\n",
      " [1.98960257]]\n",
      "b = 2.9515214\n",
      "\n"
     ]
    }
   ],
   "source": [
    "for epoch in tf.range(1, epoches + 1):\n",
    "    # eager model\n",
    "    with tf.GradientTape() as tape:\n",
    "        # 正向传播求损失\n",
    "        Y_hat = tf.matmul(X, w) + b\n",
    "        loss = tf.squeeze(tf.matmul(tf.transpose(Y - Y_hat), (Y - Y_hat))) / (2.0 * n)\n",
    "\n",
    "    # 反向传播求梯度\n",
    "    dloss_dw, dloss_db = tape.gradient(loss, [w, b])\n",
    "    # 梯度下降法更新参数\n",
    "    w.assign_sub(learn_rate * dloss_dw)\n",
    "    b.assign_sub(learn_rate * dloss_db)\n",
    "\n",
    "    if epoch % 1000 == 0:\n",
    "        tf.print(\"epoch =\", epoch, \" loss =\", loss, )\n",
    "        tf.print(\"w =\", w)\n",
    "        tf.print(\"b =\", b)\n",
    "        tf.print(\"\")"
   ]
  }
 ],
 "metadata": {
  "kernelspec": {
   "display_name": "Python 3",
   "language": "python",
   "name": "python3"
  },
  "language_info": {
   "codemirror_mode": {
    "name": "ipython",
    "version": 3
   },
   "file_extension": ".py",
   "mimetype": "text/x-python",
   "name": "python",
   "nbconvert_exporter": "python",
   "pygments_lexer": "ipython3",
   "version": "3.7.4"
  }
 },
 "nbformat": 4,
 "nbformat_minor": 5
}
