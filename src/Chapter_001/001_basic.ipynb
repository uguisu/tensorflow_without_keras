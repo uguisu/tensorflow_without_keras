{
 "cells": [
  {
   "cell_type": "markdown",
   "id": "551132e5",
   "metadata": {},
   "source": [
    "# 常量"
   ]
  },
  {
   "cell_type": "markdown",
   "id": "097e7ea7",
   "metadata": {},
   "source": [
    "函数原型"
   ]
  },
  {
   "cell_type": "code",
   "execution_count": 1,
   "id": "acbfeea4",
   "metadata": {},
   "outputs": [],
   "source": [
    "import tensorflow as tf\n",
    "import numpy as np\n",
    "\n",
    "# https://tensorflow.google.cn/versions/r2.3/api_docs/python/tf/constant?hl=en\n",
    "# tf.constant(\n",
    "#     value, dtype=None, shape=None, name='Const'\n",
    "# )"
   ]
  },
  {
   "cell_type": "markdown",
   "id": "80f32556",
   "metadata": {},
   "source": [
    "直接定义常量"
   ]
  },
  {
   "cell_type": "code",
   "execution_count": 2,
   "id": "e86d836d",
   "metadata": {},
   "outputs": [
    {
     "name": "stdout",
     "output_type": "stream",
     "text": [
      "const_001 =  tf.Tensor([1 2 3 4 5 6], shape=(6,), dtype=int32)\n"
     ]
    }
   ],
   "source": [
    "const_001 = tf.constant([1, 2, 3, 4, 5, 6])\n",
    "print('const_001 = ', const_001)"
   ]
  },
  {
   "cell_type": "markdown",
   "id": "8a5adde2",
   "metadata": {},
   "source": [
    "<br/>将numpy数组转换成常量"
   ]
  },
  {
   "cell_type": "code",
   "execution_count": 3,
   "id": "319a4d18",
   "metadata": {},
   "outputs": [
    {
     "name": "stdout",
     "output_type": "stream",
     "text": [
      "const_002 =  tf.Tensor(\n",
      "[[1 2 3]\n",
      " [4 5 6]], shape=(2, 3), dtype=int32)\n"
     ]
    }
   ],
   "source": [
    "numpy_const_001 = np.array(np.array([[1, 2, 3], [4, 5, 6]]))\n",
    "const_002 = tf.constant(numpy_const_001)\n",
    "print('const_002 = ', const_002)"
   ]
  },
  {
   "cell_type": "markdown",
   "id": "af072bfe",
   "metadata": {},
   "source": [
    "<br/>`dtype`属性会根据数据的类型自动确定"
   ]
  },
  {
   "cell_type": "code",
   "execution_count": 4,
   "id": "a2ab1579",
   "metadata": {},
   "outputs": [
    {
     "name": "stdout",
     "output_type": "stream",
     "text": [
      "const_001 dtype =  <dtype: 'int32'>\n"
     ]
    }
   ],
   "source": [
    "print('const_001 dtype = ', const_001.dtype)"
   ]
  },
  {
   "cell_type": "markdown",
   "id": "ddd37943",
   "metadata": {},
   "source": [
    "<br/>如果手工指定了`dtype`，则数据会自动进行转换"
   ]
  },
  {
   "cell_type": "code",
   "execution_count": 5,
   "id": "a013293b",
   "metadata": {},
   "outputs": [
    {
     "name": "stdout",
     "output_type": "stream",
     "text": [
      "const_001_float32 =  tf.Tensor([1. 2. 3. 4. 5. 6.], shape=(6,), dtype=float32)\n",
      "const_001_float32 dtype =  <dtype: 'float32'>\n"
     ]
    }
   ],
   "source": [
    "const_001_float32 = tf.constant([1, 2, 3, 4, 5, 6], dtype=tf.float32)\n",
    "print('const_001_float32 = ', const_001_float32)\n",
    "print('const_001_float32 dtype = ', const_001_float32.dtype)"
   ]
  },
  {
   "cell_type": "markdown",
   "id": "9b0c8e48",
   "metadata": {},
   "source": [
    "对比`const_001`的输出，不难看出，数据类型已经发生了改变.<br/><br/>"
   ]
  },
  {
   "cell_type": "markdown",
   "id": "d1dea20c",
   "metadata": {},
   "source": [
    "如果在创建常量的同时，给定了形状`shape`，tf会自动尝试按照指定的形状进行填充"
   ]
  },
  {
   "cell_type": "code",
   "execution_count": 6,
   "id": "4b0cbce9",
   "metadata": {},
   "outputs": [
    {
     "name": "stdout",
     "output_type": "stream",
     "text": [
      "const_003_with_shape =  tf.Tensor(\n",
      "[[1 2]\n",
      " [3 4]\n",
      " [5 6]], shape=(3, 2), dtype=int32)\n"
     ]
    }
   ],
   "source": [
    "const_003_with_shape = tf.constant(np.array([1, 2, 3, 4, 5, 6]), shape=(3, 2))\n",
    "print('const_003_with_shape = ', const_003_with_shape)"
   ]
  },
  {
   "cell_type": "markdown",
   "id": "6d5ccd8e",
   "metadata": {},
   "source": [
    "<br/>即使传入数据的形状与`shape`参数不相同，数据也会按照`shape`进行重新填充"
   ]
  },
  {
   "cell_type": "code",
   "execution_count": 7,
   "id": "c7e6d163",
   "metadata": {},
   "outputs": [
    {
     "name": "stdout",
     "output_type": "stream",
     "text": [
      "const_004_with_shape =  tf.Tensor(\n",
      "[[1 2]\n",
      " [3 4]\n",
      " [5 6]], shape=(3, 2), dtype=int32)\n"
     ]
    }
   ],
   "source": [
    "const_004_with_shape = tf.constant(np.array(np.array([[1, 2, 3], [4, 5, 6]])), shape=(3, 2))\n",
    "print('const_004_with_shape = ', const_004_with_shape)"
   ]
  },
  {
   "cell_type": "markdown",
   "id": "c0c5c7f9",
   "metadata": {},
   "source": [
    "# 常量计算"
   ]
  },
  {
   "cell_type": "markdown",
   "id": "2b8c5917",
   "metadata": {},
   "source": [
    "## 常数计算"
   ]
  },
  {
   "cell_type": "code",
   "execution_count": 8,
   "id": "293f44fd",
   "metadata": {},
   "outputs": [
    {
     "name": "stdout",
     "output_type": "stream",
     "text": [
      "y1 =  tf.Tensor(\n",
      "[[3. 4.]\n",
      " [5. 6.]], shape=(2, 2), dtype=float32)\n"
     ]
    }
   ],
   "source": [
    "x = tf.constant([[1, 2], [3, 4]], dtype=tf.float32)\n",
    "y = x + 2\n",
    "print('y1 = ', y)"
   ]
  },
  {
   "cell_type": "code",
   "execution_count": 9,
   "id": "35db0422",
   "metadata": {},
   "outputs": [
    {
     "name": "stdout",
     "output_type": "stream",
     "text": [
      "y2 =  tf.Tensor(\n",
      "[[ 3.  6.]\n",
      " [ 9. 12.]], shape=(2, 2), dtype=float32)\n"
     ]
    }
   ],
   "source": [
    "y = x * 3\n",
    "print('y2 = ', y)"
   ]
  },
  {
   "cell_type": "code",
   "execution_count": 10,
   "id": "5cfcdbbd",
   "metadata": {},
   "outputs": [
    {
     "name": "stdout",
     "output_type": "stream",
     "text": [
      "y3 =  tf.Tensor(\n",
      "[[ 1.  4.]\n",
      " [ 9. 16.]], shape=(2, 2), dtype=float32)\n"
     ]
    }
   ],
   "source": [
    "y = x ** 2\n",
    "print('y3 = ', y)"
   ]
  },
  {
   "cell_type": "code",
   "execution_count": 11,
   "id": "be23d130",
   "metadata": {},
   "outputs": [
    {
     "name": "stdout",
     "output_type": "stream",
     "text": [
      "y4 =  tf.Tensor(\n",
      "[[0.33333334 0.6666667 ]\n",
      " [1.         1.3333334 ]], shape=(2, 2), dtype=float32)\n"
     ]
    }
   ],
   "source": [
    "y = x / 3\n",
    "print('y4 = ', y)"
   ]
  },
  {
   "cell_type": "markdown",
   "id": "c544124d",
   "metadata": {},
   "source": [
    "注意：若定义`x = tf.constant([[1, 2], [3, 4]], dtype=tf.int8)`，则会报错\n",
    "```\n",
    "tensorflow.python.framework.errors_impl.InvalidArgumentError: Value\n",
    "for attr 'T' of int8 is not in the list of allowed values: bfloat16, float, half, double, int32, int64, complex64,\n",
    "complex128; NodeDef: {{node Pow}}; Op < name = Pow;\n",
    "signature = x:T, y: T -> z: T;\n",
    "attr = T:type, allowed = [DT_BFLOAT16, DT_FLOAT, DT_HALF, DT_DOUBLE, DT_INT32, DT_INT64, DT_COMPLEX64,\n",
    "                          DT_COMPLEX128] > [Op:Pow]\n",
    "```\n",
    "<br/><br/>"
   ]
  },
  {
   "cell_type": "markdown",
   "id": "7dc36824",
   "metadata": {},
   "source": [
    "## 两个常量计算"
   ]
  },
  {
   "cell_type": "code",
   "execution_count": 12,
   "id": "6f6f61bf",
   "metadata": {},
   "outputs": [],
   "source": [
    "x1 = tf.constant([[11, 12], [21, 22]], dtype=tf.float32)\n",
    "x2 = tf.constant([[5, 6], [7, 8]], dtype=tf.float32)"
   ]
  },
  {
   "cell_type": "code",
   "execution_count": 13,
   "id": "ad202413",
   "metadata": {},
   "outputs": [
    {
     "name": "stdout",
     "output_type": "stream",
     "text": [
      "y5 =  tf.Tensor(\n",
      "[[16. 18.]\n",
      " [28. 30.]], shape=(2, 2), dtype=float32)\n"
     ]
    }
   ],
   "source": [
    "y = x1 + x2\n",
    "print('y5 = ', y)"
   ]
  },
  {
   "cell_type": "code",
   "execution_count": 14,
   "id": "29674c49",
   "metadata": {},
   "outputs": [
    {
     "name": "stdout",
     "output_type": "stream",
     "text": [
      "y6 =  tf.Tensor(\n",
      "[[ 6.  6.]\n",
      " [14. 14.]], shape=(2, 2), dtype=float32)\n"
     ]
    }
   ],
   "source": [
    "y = x1 - x2\n",
    "print('y6 = ', y)"
   ]
  },
  {
   "cell_type": "code",
   "execution_count": 15,
   "id": "ba4b165a",
   "metadata": {},
   "outputs": [
    {
     "name": "stdout",
     "output_type": "stream",
     "text": [
      "y7 =  tf.Tensor(\n",
      "[[ 55.  72.]\n",
      " [147. 176.]], shape=(2, 2), dtype=float32)\n"
     ]
    }
   ],
   "source": [
    "y = x1 * x2\n",
    "print('y7 = ', y)"
   ]
  },
  {
   "cell_type": "code",
   "execution_count": 16,
   "id": "611c5d57",
   "metadata": {},
   "outputs": [
    {
     "name": "stdout",
     "output_type": "stream",
     "text": [
      "y8 =  tf.Tensor(\n",
      "[[2.2  2.  ]\n",
      " [3.   2.75]], shape=(2, 2), dtype=float32)\n"
     ]
    }
   ],
   "source": [
    "y = x1 / x2\n",
    "print('y8 = ', y)"
   ]
  },
  {
   "cell_type": "code",
   "execution_count": 17,
   "id": "786517fa",
   "metadata": {},
   "outputs": [
    {
     "name": "stdout",
     "output_type": "stream",
     "text": [
      "y9 =  tf.Tensor(\n",
      "[[3.3166249 3.4641016]\n",
      " [4.5825763 4.690416 ]], shape=(2, 2), dtype=float32)\n"
     ]
    }
   ],
   "source": [
    "y = pow(x1, 1 / 2)\n",
    "print('y9 = ', y)"
   ]
  }
 ],
 "metadata": {
  "kernelspec": {
   "display_name": "Python 3",
   "language": "python",
   "name": "python3"
  },
  "language_info": {
   "codemirror_mode": {
    "name": "ipython",
    "version": 3
   },
   "file_extension": ".py",
   "mimetype": "text/x-python",
   "name": "python",
   "nbconvert_exporter": "python",
   "pygments_lexer": "ipython3",
   "version": "3.7.4"
  }
 },
 "nbformat": 4,
 "nbformat_minor": 5
}
